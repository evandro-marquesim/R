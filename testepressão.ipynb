{
  "nbformat": 4,
  "nbformat_minor": 0,
  "metadata": {
    "colab": {
      "provenance": [],
      "authorship_tag": "ABX9TyMAXXOVaYubMfR+CXhIPTen",
      "include_colab_link": true
    },
    "kernelspec": {
      "name": "ir",
      "display_name": "R"
    },
    "language_info": {
      "name": "R"
    },
    "gpuClass": "standard"
  },
  "cells": [
    {
      "cell_type": "markdown",
      "metadata": {
        "id": "view-in-github",
        "colab_type": "text"
      },
      "source": [
        "<a href=\"https://colab.research.google.com/github/evandro-marquesim/R/blob/main/testepress%C3%A3o.ipynb\" target=\"_parent\"><img src=\"https://colab.research.google.com/assets/colab-badge.svg\" alt=\"Open In Colab\"/></a>"
      ]
    },
    {
      "cell_type": "code",
      "execution_count": null,
      "metadata": {
        "colab": {
          "base_uri": "https://localhost:8080/",
          "height": 1000
        },
        "id": "vrJNPShF0v3N",
        "outputId": "da54d82d-3c86-48b1-e852-4ac458a9a32e"
      },
      "outputs": [
        {
          "output_type": "display_data",
          "data": {
            "text/html": [
              "0.00982327450751927"
            ],
            "text/markdown": "0.00982327450751927",
            "text/latex": "0.00982327450751927",
            "text/plain": [
              "[1] 0.009823275"
            ]
          },
          "metadata": {}
        },
        {
          "output_type": "display_data",
          "data": {
            "text/html": [
              "0.0238684421645743"
            ],
            "text/markdown": "0.0238684421645743",
            "text/latex": "0.0238684421645743",
            "text/plain": [
              "[1] 0.02386844"
            ]
          },
          "metadata": {}
        },
        {
          "output_type": "display_data",
          "data": {
            "text/html": [
              "0.0528075114161137"
            ],
            "text/markdown": "0.0528075114161137",
            "text/latex": "0.0528075114161137",
            "text/plain": [
              "[1] 0.05280751"
            ]
          },
          "metadata": {}
        },
        {
          "output_type": "display_data",
          "data": {
            "text/html": [
              "0.106583169574888"
            ],
            "text/markdown": "0.106583169574888",
            "text/latex": "0.106583169574888",
            "text/plain": [
              "[1] 0.1065832"
            ]
          },
          "metadata": {}
        },
        {
          "output_type": "display_data",
          "data": {
            "text/html": [
              "0.196705602458947"
            ],
            "text/markdown": "0.196705602458947",
            "text/latex": "0.196705602458947",
            "text/plain": [
              "[1] 0.1967056"
            ]
          },
          "metadata": {}
        },
        {
          "output_type": "display_data",
          "data": {
            "text/html": [
              "0.332921608065566"
            ],
            "text/markdown": "0.332921608065566",
            "text/latex": "0.332921608065566",
            "text/plain": [
              "[1] 0.3329216"
            ]
          },
          "metadata": {}
        },
        {
          "output_type": "display_data",
          "data": {
            "text/html": [
              "0.518605016428726"
            ],
            "text/markdown": "0.518605016428726",
            "text/latex": "0.518605016428726",
            "text/plain": [
              "[1] 0.518605"
            ]
          },
          "metadata": {}
        },
        {
          "output_type": "display_data",
          "data": {
            "text/html": [
              "122.903607436694"
            ],
            "text/markdown": "122.903607436694",
            "text/latex": "122.903607436694",
            "text/plain": [
              "[1] 122.9036"
            ]
          },
          "metadata": {}
        },
        {
          "output_type": "display_data",
          "data": {
            "text/html": [
              "133.096392563306"
            ],
            "text/markdown": "133.096392563306",
            "text/latex": "133.096392563306",
            "text/plain": [
              "[1] 133.0964"
            ]
          },
          "metadata": {}
        },
        {
          "output_type": "display_data",
          "data": {
            "text/html": [
              "121.927273702968"
            ],
            "text/markdown": "121.927273702968",
            "text/latex": "121.927273702968",
            "text/plain": [
              "[1] 121.9273"
            ]
          },
          "metadata": {}
        },
        {
          "output_type": "display_data",
          "data": {
            "text/html": [
              "134.072726297032"
            ],
            "text/markdown": "134.072726297032",
            "text/latex": "134.072726297032",
            "text/plain": [
              "[1] 134.0727"
            ]
          },
          "metadata": {}
        },
        {
          "output_type": "display_data",
          "data": {
            "text/html": [
              "120.019084803746"
            ],
            "text/markdown": "120.019084803746",
            "text/latex": "120.019084803746",
            "text/plain": [
              "[1] 120.0191"
            ]
          },
          "metadata": {}
        },
        {
          "output_type": "display_data",
          "data": {
            "text/html": [
              "135.980915196254"
            ],
            "text/markdown": "135.980915196254",
            "text/latex": "135.980915196254",
            "text/plain": [
              "[1] 135.9809"
            ]
          },
          "metadata": {}
        },
        {
          "output_type": "display_data",
          "data": {
            "text/html": [
              "0.901593443182162"
            ],
            "text/markdown": "0.901593443182162",
            "text/latex": "0.901593443182162",
            "text/plain": [
              "[1] 0.9015934"
            ]
          },
          "metadata": {}
        },
        {
          "output_type": "display_data",
          "data": {
            "text/html": [
              "0.833346752066584"
            ],
            "text/markdown": "0.833346752066584",
            "text/latex": "0.833346752066584",
            "text/plain": [
              "[1] 0.8333468"
            ]
          },
          "metadata": {}
        },
        {
          "output_type": "display_data",
          "data": {
            "text/html": [
              "0.740073076291593"
            ],
            "text/markdown": "0.740073076291593",
            "text/latex": "0.740073076291593",
            "text/plain": [
              "[1] 0.7400731"
            ]
          },
          "metadata": {}
        },
        {
          "output_type": "display_data",
          "data": {
            "text/html": [
              "0.624719377245947"
            ],
            "text/markdown": "0.624719377245947",
            "text/latex": "0.624719377245947",
            "text/plain": [
              "[1] 0.6247194"
            ]
          },
          "metadata": {}
        },
        {
          "output_type": "display_data",
          "data": {
            "text/html": [
              "0.49508836274624"
            ],
            "text/markdown": "0.49508836274624",
            "text/latex": "0.49508836274624",
            "text/plain": [
              "[1] 0.4950884"
            ]
          },
          "metadata": {}
        },
        {
          "output_type": "display_data",
          "data": {
            "text/html": [
              "0.361508595612895"
            ],
            "text/markdown": "0.361508595612895",
            "text/latex": "0.361508595612895",
            "text/plain": [
              "[1] 0.3615086"
            ]
          },
          "metadata": {}
        },
        {
          "output_type": "display_data",
          "data": {
            "text/html": [
              "0.232898752506306"
            ],
            "text/markdown": "0.232898752506306",
            "text/latex": "0.232898752506306",
            "text/plain": [
              "[1] 0.2328988"
            ]
          },
          "metadata": {}
        },
        {
          "output_type": "display_data",
          "data": {
            "text/html": [
              "0.833525596379169"
            ],
            "text/markdown": "0.833525596379169",
            "text/latex": "0.833525596379169",
            "text/plain": [
              "[1] 0.8335256"
            ]
          },
          "metadata": {}
        },
        {
          "output_type": "display_data",
          "data": {
            "text/html": [
              "0.740643736197272"
            ],
            "text/markdown": "0.740643736197272",
            "text/latex": "0.740643736197272",
            "text/plain": [
              "[1] 0.7406437"
            ]
          },
          "metadata": {}
        },
        {
          "output_type": "display_data",
          "data": {
            "text/html": [
              "0.626364739404185"
            ],
            "text/markdown": "0.626364739404185",
            "text/latex": "0.626364739404185",
            "text/plain": [
              "[1] 0.6263647"
            ]
          },
          "metadata": {}
        },
        {
          "output_type": "display_data",
          "data": {
            "text/html": [
              "0.499375584505956"
            ],
            "text/markdown": "0.499375584505956",
            "text/latex": "0.499375584505956",
            "text/plain": [
              "[1] 0.4993756"
            ]
          },
          "metadata": {}
        },
        {
          "output_type": "display_data",
          "data": {
            "text/html": [
              "0.371605010636311"
            ],
            "text/markdown": "0.371605010636311",
            "text/latex": "0.371605010636311",
            "text/plain": [
              "[1] 0.371605"
            ]
          },
          "metadata": {}
        },
        {
          "output_type": "display_data",
          "data": {
            "text/html": [
              "0.254390870960603"
            ],
            "text/markdown": "0.254390870960603",
            "text/latex": "0.254390870960603",
            "text/plain": [
              "[1] 0.2543909"
            ]
          },
          "metadata": {}
        },
        {
          "output_type": "display_data",
          "data": {
            "text/html": [
              "0.154526582950496"
            ],
            "text/markdown": "0.154526582950496",
            "text/latex": "0.154526582950496",
            "text/plain": [
              "[1] 0.1545266"
            ]
          },
          "metadata": {}
        },
        {
          "output_type": "display_data",
          "data": {
            "text/html": [
              "<table class=\"dataframe\">\n",
              "<caption>A matrix: 41 × 2 of type dbl</caption>\n",
              "<thead>\n",
              "\t<tr><th scope=col>mi_p</th><th scope=col>poder</th></tr>\n",
              "</thead>\n",
              "<tbody>\n",
              "\t<tr><td>108</td><td>0.999946244</td></tr>\n",
              "\t<tr><td>109</td><td>0.999807556</td></tr>\n",
              "\t<tr><td>110</td><td>0.999375585</td></tr>\n",
              "\t<tr><td>111</td><td>0.998162194</td></tr>\n",
              "\t<tr><td>112</td><td>0.995088363</td></tr>\n",
              "\t<tr><td>113</td><td>0.988065779</td></tr>\n",
              "\t<tr><td>114</td><td>0.973596244</td></tr>\n",
              "\t<tr><td>115</td><td>0.946708415</td></tr>\n",
              "\t<tr><td>116</td><td>0.901647199</td></tr>\n",
              "\t<tr><td>117</td><td>0.833539196</td></tr>\n",
              "\t<tr><td>118</td><td>0.740697495</td></tr>\n",
              "\t<tr><td>119</td><td>0.626557204</td></tr>\n",
              "\t<tr><td>120</td><td>0.500000121</td></tr>\n",
              "\t<tr><td>121</td><td>0.373443462</td></tr>\n",
              "\t<tr><td>122</td><td>0.259305622</td></tr>\n",
              "\t<tr><td>123</td><td>0.166474404</td></tr>\n",
              "\t<tr><td>124</td><td>0.098406557</td></tr>\n",
              "\t<tr><td>125</td><td>0.053484029</td></tr>\n",
              "\t<tr><td>126</td><td>0.027028171</td></tr>\n",
              "\t<tr><td>127</td><td>0.013772027</td></tr>\n",
              "\t<tr><td>128</td><td>0.009823275</td></tr>\n",
              "\t<tr><td>129</td><td>0.013772027</td></tr>\n",
              "\t<tr><td>130</td><td>0.027028171</td></tr>\n",
              "\t<tr><td>131</td><td>0.053484029</td></tr>\n",
              "\t<tr><td>132</td><td>0.098406557</td></tr>\n",
              "\t<tr><td>133</td><td>0.166474404</td></tr>\n",
              "\t<tr><td>134</td><td>0.259305622</td></tr>\n",
              "\t<tr><td>135</td><td>0.373443462</td></tr>\n",
              "\t<tr><td>136</td><td>0.500000121</td></tr>\n",
              "\t<tr><td>137</td><td>0.626557204</td></tr>\n",
              "\t<tr><td>138</td><td>0.740697495</td></tr>\n",
              "\t<tr><td>139</td><td>0.833539196</td></tr>\n",
              "\t<tr><td>140</td><td>0.901647199</td></tr>\n",
              "\t<tr><td>141</td><td>0.946708415</td></tr>\n",
              "\t<tr><td>142</td><td>0.973596244</td></tr>\n",
              "\t<tr><td>143</td><td>0.988065779</td></tr>\n",
              "\t<tr><td>144</td><td>0.995088363</td></tr>\n",
              "\t<tr><td>145</td><td>0.998162194</td></tr>\n",
              "\t<tr><td>146</td><td>0.999375585</td></tr>\n",
              "\t<tr><td>147</td><td>0.999807556</td></tr>\n",
              "\t<tr><td>148</td><td>0.999946244</td></tr>\n",
              "</tbody>\n",
              "</table>\n"
            ],
            "text/markdown": "\nA matrix: 41 × 2 of type dbl\n\n| mi_p | poder |\n|---|---|\n| 108 | 0.999946244 |\n| 109 | 0.999807556 |\n| 110 | 0.999375585 |\n| 111 | 0.998162194 |\n| 112 | 0.995088363 |\n| 113 | 0.988065779 |\n| 114 | 0.973596244 |\n| 115 | 0.946708415 |\n| 116 | 0.901647199 |\n| 117 | 0.833539196 |\n| 118 | 0.740697495 |\n| 119 | 0.626557204 |\n| 120 | 0.500000121 |\n| 121 | 0.373443462 |\n| 122 | 0.259305622 |\n| 123 | 0.166474404 |\n| 124 | 0.098406557 |\n| 125 | 0.053484029 |\n| 126 | 0.027028171 |\n| 127 | 0.013772027 |\n| 128 | 0.009823275 |\n| 129 | 0.013772027 |\n| 130 | 0.027028171 |\n| 131 | 0.053484029 |\n| 132 | 0.098406557 |\n| 133 | 0.166474404 |\n| 134 | 0.259305622 |\n| 135 | 0.373443462 |\n| 136 | 0.500000121 |\n| 137 | 0.626557204 |\n| 138 | 0.740697495 |\n| 139 | 0.833539196 |\n| 140 | 0.901647199 |\n| 141 | 0.946708415 |\n| 142 | 0.973596244 |\n| 143 | 0.988065779 |\n| 144 | 0.995088363 |\n| 145 | 0.998162194 |\n| 146 | 0.999375585 |\n| 147 | 0.999807556 |\n| 148 | 0.999946244 |\n\n",
            "text/latex": "A matrix: 41 × 2 of type dbl\n\\begin{tabular}{ll}\n mi\\_p & poder\\\\\n\\hline\n\t 108 & 0.999946244\\\\\n\t 109 & 0.999807556\\\\\n\t 110 & 0.999375585\\\\\n\t 111 & 0.998162194\\\\\n\t 112 & 0.995088363\\\\\n\t 113 & 0.988065779\\\\\n\t 114 & 0.973596244\\\\\n\t 115 & 0.946708415\\\\\n\t 116 & 0.901647199\\\\\n\t 117 & 0.833539196\\\\\n\t 118 & 0.740697495\\\\\n\t 119 & 0.626557204\\\\\n\t 120 & 0.500000121\\\\\n\t 121 & 0.373443462\\\\\n\t 122 & 0.259305622\\\\\n\t 123 & 0.166474404\\\\\n\t 124 & 0.098406557\\\\\n\t 125 & 0.053484029\\\\\n\t 126 & 0.027028171\\\\\n\t 127 & 0.013772027\\\\\n\t 128 & 0.009823275\\\\\n\t 129 & 0.013772027\\\\\n\t 130 & 0.027028171\\\\\n\t 131 & 0.053484029\\\\\n\t 132 & 0.098406557\\\\\n\t 133 & 0.166474404\\\\\n\t 134 & 0.259305622\\\\\n\t 135 & 0.373443462\\\\\n\t 136 & 0.500000121\\\\\n\t 137 & 0.626557204\\\\\n\t 138 & 0.740697495\\\\\n\t 139 & 0.833539196\\\\\n\t 140 & 0.901647199\\\\\n\t 141 & 0.946708415\\\\\n\t 142 & 0.973596244\\\\\n\t 143 & 0.988065779\\\\\n\t 144 & 0.995088363\\\\\n\t 145 & 0.998162194\\\\\n\t 146 & 0.999375585\\\\\n\t 147 & 0.999807556\\\\\n\t 148 & 0.999946244\\\\\n\\end{tabular}\n",
            "text/plain": [
              "      mi_p poder      \n",
              " [1,] 108  0.999946244\n",
              " [2,] 109  0.999807556\n",
              " [3,] 110  0.999375585\n",
              " [4,] 111  0.998162194\n",
              " [5,] 112  0.995088363\n",
              " [6,] 113  0.988065779\n",
              " [7,] 114  0.973596244\n",
              " [8,] 115  0.946708415\n",
              " [9,] 116  0.901647199\n",
              "[10,] 117  0.833539196\n",
              "[11,] 118  0.740697495\n",
              "[12,] 119  0.626557204\n",
              "[13,] 120  0.500000121\n",
              "[14,] 121  0.373443462\n",
              "[15,] 122  0.259305622\n",
              "[16,] 123  0.166474404\n",
              "[17,] 124  0.098406557\n",
              "[18,] 125  0.053484029\n",
              "[19,] 126  0.027028171\n",
              "[20,] 127  0.013772027\n",
              "[21,] 128  0.009823275\n",
              "[22,] 129  0.013772027\n",
              "[23,] 130  0.027028171\n",
              "[24,] 131  0.053484029\n",
              "[25,] 132  0.098406557\n",
              "[26,] 133  0.166474404\n",
              "[27,] 134  0.259305622\n",
              "[28,] 135  0.373443462\n",
              "[29,] 136  0.500000121\n",
              "[30,] 137  0.626557204\n",
              "[31,] 138  0.740697495\n",
              "[32,] 139  0.833539196\n",
              "[33,] 140  0.901647199\n",
              "[34,] 141  0.946708415\n",
              "[35,] 142  0.973596244\n",
              "[36,] 143  0.988065779\n",
              "[37,] 144  0.995088363\n",
              "[38,] 145  0.998162194\n",
              "[39,] 146  0.999375585\n",
              "[40,] 147  0.999807556\n",
              "[41,] 148  0.999946244"
            ]
          },
          "metadata": {}
        },
        {
          "output_type": "display_data",
          "data": {
            "text/plain": [
              "plot without title"
            ],
            "image/png": "[encoded data removed]"
          },
          "metadata": {
            "image/png": {
              "width": 420,
              "height": 420
            }
          }
        },
        {
          "output_type": "display_data",
          "data": {
            "text/html": [
              "<table class=\"dataframe\">\n",
              "<caption>A matrix: 41 × 2 of type dbl</caption>\n",
              "<thead>\n",
              "\t<tr><th scope=col>mi_p</th><th scope=col>poder</th></tr>\n",
              "</thead>\n",
              "<tbody>\n",
              "\t<tr><td>108</td><td>0.9999994</td></tr>\n",
              "\t<tr><td>109</td><td>0.9999969</td></tr>\n",
              "\t<tr><td>110</td><td>0.9999864</td></tr>\n",
              "\t<tr><td>111</td><td>0.9999462</td></tr>\n",
              "\t<tr><td>112</td><td>0.9998076</td></tr>\n",
              "\t<tr><td>113</td><td>0.9993756</td></tr>\n",
              "\t<tr><td>114</td><td>0.9981622</td></tr>\n",
              "\t<tr><td>115</td><td>0.9950884</td></tr>\n",
              "\t<tr><td>116</td><td>0.9880658</td></tr>\n",
              "\t<tr><td>117</td><td>0.9735964</td></tr>\n",
              "\t<tr><td>118</td><td>0.9467091</td></tr>\n",
              "\t<tr><td>119</td><td>0.9016503</td></tr>\n",
              "\t<tr><td>120</td><td>0.8335528</td></tr>\n",
              "\t<tr><td>121</td><td>0.7407512</td></tr>\n",
              "\t<tr><td>122</td><td>0.6267496</td></tr>\n",
              "\t<tr><td>123</td><td>0.5006244</td></tr>\n",
              "\t<tr><td>124</td><td>0.3752806</td></tr>\n",
              "\t<tr><td>125</td><td>0.2642141</td></tr>\n",
              "\t<tr><td>126</td><td>0.1783950</td></tr>\n",
              "\t<tr><td>127</td><td>0.1247566</td></tr>\n",
              "\t<tr><td>128</td><td>0.1065832</td></tr>\n",
              "\t<tr><td>129</td><td>0.1247566</td></tr>\n",
              "\t<tr><td>130</td><td>0.1783950</td></tr>\n",
              "\t<tr><td>131</td><td>0.2642141</td></tr>\n",
              "\t<tr><td>132</td><td>0.3752806</td></tr>\n",
              "\t<tr><td>133</td><td>0.5006244</td></tr>\n",
              "\t<tr><td>134</td><td>0.6267496</td></tr>\n",
              "\t<tr><td>135</td><td>0.7407512</td></tr>\n",
              "\t<tr><td>136</td><td>0.8335528</td></tr>\n",
              "\t<tr><td>137</td><td>0.9016503</td></tr>\n",
              "\t<tr><td>138</td><td>0.9467091</td></tr>\n",
              "\t<tr><td>139</td><td>0.9735964</td></tr>\n",
              "\t<tr><td>140</td><td>0.9880658</td></tr>\n",
              "\t<tr><td>141</td><td>0.9950884</td></tr>\n",
              "\t<tr><td>142</td><td>0.9981622</td></tr>\n",
              "\t<tr><td>143</td><td>0.9993756</td></tr>\n",
              "\t<tr><td>144</td><td>0.9998076</td></tr>\n",
              "\t<tr><td>145</td><td>0.9999462</td></tr>\n",
              "\t<tr><td>146</td><td>0.9999864</td></tr>\n",
              "\t<tr><td>147</td><td>0.9999969</td></tr>\n",
              "\t<tr><td>148</td><td>0.9999994</td></tr>\n",
              "</tbody>\n",
              "</table>\n"
            ],
            "text/markdown": "\nA matrix: 41 × 2 of type dbl\n\n| mi_p | poder |\n|---|---|\n| 108 | 0.9999994 |\n| 109 | 0.9999969 |\n| 110 | 0.9999864 |\n| 111 | 0.9999462 |\n| 112 | 0.9998076 |\n| 113 | 0.9993756 |\n| 114 | 0.9981622 |\n| 115 | 0.9950884 |\n| 116 | 0.9880658 |\n| 117 | 0.9735964 |\n| 118 | 0.9467091 |\n| 119 | 0.9016503 |\n| 120 | 0.8335528 |\n| 121 | 0.7407512 |\n| 122 | 0.6267496 |\n| 123 | 0.5006244 |\n| 124 | 0.3752806 |\n| 125 | 0.2642141 |\n| 126 | 0.1783950 |\n| 127 | 0.1247566 |\n| 128 | 0.1065832 |\n| 129 | 0.1247566 |\n| 130 | 0.1783950 |\n| 131 | 0.2642141 |\n| 132 | 0.3752806 |\n| 133 | 0.5006244 |\n| 134 | 0.6267496 |\n| 135 | 0.7407512 |\n| 136 | 0.8335528 |\n| 137 | 0.9016503 |\n| 138 | 0.9467091 |\n| 139 | 0.9735964 |\n| 140 | 0.9880658 |\n| 141 | 0.9950884 |\n| 142 | 0.9981622 |\n| 143 | 0.9993756 |\n| 144 | 0.9998076 |\n| 145 | 0.9999462 |\n| 146 | 0.9999864 |\n| 147 | 0.9999969 |\n| 148 | 0.9999994 |\n\n",
            "text/latex": "A matrix: 41 × 2 of type dbl\n\\begin{tabular}{ll}\n mi\\_p & poder\\\\\n\\hline\n\t 108 & 0.9999994\\\\\n\t 109 & 0.9999969\\\\\n\t 110 & 0.9999864\\\\\n\t 111 & 0.9999462\\\\\n\t 112 & 0.9998076\\\\\n\t 113 & 0.9993756\\\\\n\t 114 & 0.9981622\\\\\n\t 115 & 0.9950884\\\\\n\t 116 & 0.9880658\\\\\n\t 117 & 0.9735964\\\\\n\t 118 & 0.9467091\\\\\n\t 119 & 0.9016503\\\\\n\t 120 & 0.8335528\\\\\n\t 121 & 0.7407512\\\\\n\t 122 & 0.6267496\\\\\n\t 123 & 0.5006244\\\\\n\t 124 & 0.3752806\\\\\n\t 125 & 0.2642141\\\\\n\t 126 & 0.1783950\\\\\n\t 127 & 0.1247566\\\\\n\t 128 & 0.1065832\\\\\n\t 129 & 0.1247566\\\\\n\t 130 & 0.1783950\\\\\n\t 131 & 0.2642141\\\\\n\t 132 & 0.3752806\\\\\n\t 133 & 0.5006244\\\\\n\t 134 & 0.6267496\\\\\n\t 135 & 0.7407512\\\\\n\t 136 & 0.8335528\\\\\n\t 137 & 0.9016503\\\\\n\t 138 & 0.9467091\\\\\n\t 139 & 0.9735964\\\\\n\t 140 & 0.9880658\\\\\n\t 141 & 0.9950884\\\\\n\t 142 & 0.9981622\\\\\n\t 143 & 0.9993756\\\\\n\t 144 & 0.9998076\\\\\n\t 145 & 0.9999462\\\\\n\t 146 & 0.9999864\\\\\n\t 147 & 0.9999969\\\\\n\t 148 & 0.9999994\\\\\n\\end{tabular}\n",
            "text/plain": [
              "      mi_p poder    \n",
              " [1,] 108  0.9999994\n",
              " [2,] 109  0.9999969\n",
              " [3,] 110  0.9999864\n",
              " [4,] 111  0.9999462\n",
              " [5,] 112  0.9998076\n",
              " [6,] 113  0.9993756\n",
              " [7,] 114  0.9981622\n",
              " [8,] 115  0.9950884\n",
              " [9,] 116  0.9880658\n",
              "[10,] 117  0.9735964\n",
              "[11,] 118  0.9467091\n",
              "[12,] 119  0.9016503\n",
              "[13,] 120  0.8335528\n",
              "[14,] 121  0.7407512\n",
              "[15,] 122  0.6267496\n",
              "[16,] 123  0.5006244\n",
              "[17,] 124  0.3752806\n",
              "[18,] 125  0.2642141\n",
              "[19,] 126  0.1783950\n",
              "[20,] 127  0.1247566\n",
              "[21,] 128  0.1065832\n",
              "[22,] 129  0.1247566\n",
              "[23,] 130  0.1783950\n",
              "[24,] 131  0.2642141\n",
              "[25,] 132  0.3752806\n",
              "[26,] 133  0.5006244\n",
              "[27,] 134  0.6267496\n",
              "[28,] 135  0.7407512\n",
              "[29,] 136  0.8335528\n",
              "[30,] 137  0.9016503\n",
              "[31,] 138  0.9467091\n",
              "[32,] 139  0.9735964\n",
              "[33,] 140  0.9880658\n",
              "[34,] 141  0.9950884\n",
              "[35,] 142  0.9981622\n",
              "[36,] 143  0.9993756\n",
              "[37,] 144  0.9998076\n",
              "[38,] 145  0.9999462\n",
              "[39,] 146  0.9999864\n",
              "[40,] 147  0.9999969\n",
              "[41,] 148  0.9999994"
            ]
          },
          "metadata": {}
        },
        {
          "output_type": "display_data",
          "data": {
            "text/html": [
              "TRUE"
            ],
            "text/markdown": "TRUE",
            "text/latex": "TRUE",
            "text/plain": [
              "[1] TRUE"
            ]
          },
          "metadata": {}
        },
        {
          "output_type": "display_data",
          "data": {
            "text/html": [
              "FALSE"
            ],
            "text/markdown": "FALSE",
            "text/latex": "FALSE",
            "text/plain": [
              "[1] FALSE"
            ]
          },
          "metadata": {}
        },
        {
          "output_type": "display_data",
          "data": {
            "text/html": [
              "TRUE"
            ],
            "text/markdown": "TRUE",
            "text/latex": "TRUE",
            "text/plain": [
              "[1] TRUE"
            ]
          },
          "metadata": {}
        },
        {
          "output_type": "display_data",
          "data": {
            "text/html": [
              "FALSE"
            ],
            "text/markdown": "FALSE",
            "text/latex": "FALSE",
            "text/plain": [
              "[1] FALSE"
            ]
          },
          "metadata": {}
        },
        {
          "output_type": "display_data",
          "data": {
            "text/html": [
              "<style>\n",
              ".list-inline {list-style: none; margin:0; padding: 0}\n",
              ".list-inline>li {display: inline-block}\n",
              ".list-inline>li:not(:last-child)::after {content: \"\\00b7\"; padding: 0 .5ex}\n",
              "</style>\n",
              "<ol class=list-inline><li>115.122268859089</li><li>124.877731140911</li></ol>\n"
            ],
            "text/markdown": "1. 115.122268859089\n2. 124.877731140911\n\n\n",
            "text/latex": "\\begin{enumerate*}\n\\item 115.122268859089\n\\item 124.877731140911\n\\end{enumerate*}\n",
            "text/plain": [
              "[1] 115.1223 124.8777"
            ]
          },
          "metadata": {}
        },
        {
          "output_type": "display_data",
          "data": {
            "text/html": [
              "FALSE"
            ],
            "text/markdown": "FALSE",
            "text/latex": "FALSE",
            "text/plain": [
              "[1] FALSE"
            ]
          },
          "metadata": {}
        },
        {
          "output_type": "display_data",
          "data": {
            "text/html": [
              "TRUE"
            ],
            "text/markdown": "TRUE",
            "text/latex": "TRUE",
            "text/plain": [
              "[1] TRUE"
            ]
          },
          "metadata": {}
        },
        {
          "output_type": "display_data",
          "data": {
            "text/plain": [
              "plot without title"
            ],
            "image/png": "[encoded data removed]"
          },
          "metadata": {
            "image/png": {
              "width": 420,
              "height": 420
            }
          }
        }
      ],
      "source": [
        "## Exercicio completo - Intervalo x Teste ##  \n",
        "\n",
        "\n",
        "# dados para fazer TH e IC\n",
        "mi0 <- 128 # media de teste\n",
        "sigma <- 24 # desvio-padrao populacional\n",
        "x_barra <- 135 # media amostral\n",
        "n <- 60\n",
        "\n",
        "\n",
        "# região critica - erro alfa\n",
        "EP = sigma/sqrt(n)\n",
        "# isso aqui é só com os dados que o cara forneceu!!! erro do tipo 1\n",
        "# considerando regiao critica Xb<120 e Xb>136\n",
        "pnorm(120,mean=mi0,sd=EP)+(1-pnorm(136,mean=mi0,sd=EP))\n",
        "# considerando regiao critica Xb<121 e Xb>135\n",
        "pnorm(121,mean=mi0,sd=EP)+(1-pnorm(135,mean=mi0,sd=EP))\n",
        "# considerando regiao critica Xb<122 e Xb>134\n",
        "pnorm(122,mean=mi0,sd=EP)+(1-pnorm(134,mean=mi0,sd=EP))\n",
        "# considerando regiao critica Xb<123 e Xb>133\n",
        "pnorm(123,mean=mi0,sd=EP)+(1-pnorm(133,mean=mi0,sd=EP))\n",
        "# considerando regiao critica Xb<124 e Xb>132\n",
        "pnorm(124,mean=mi0,sd=EP)+(1-pnorm(132,mean=mi0,sd=EP))\n",
        "# considerando regiao critica Xb<125 e Xb>131\n",
        "pnorm(125,mean=mi0,sd=EP)+(1-pnorm(131,mean=mi0,sd=EP))\n",
        "# considerando regiao critica Xb<126 e Xb>130\n",
        "pnorm(126,mean=mi0,sd=EP)+(1-pnorm(130,mean=mi0,sd=EP))\n",
        "\n",
        "\n",
        "# Fixando alfa de 10%, temos 5% em cada cauda, \n",
        "# com isso obtem-se a regiao de rejeicao (critica)\n",
        "qnorm(0.05,mean=mi0,sd=EP)\n",
        "qnorm(0.95,mean=mi0,sd=EP)\n",
        "# regiao de rejeicao (regiao critica) Xb<122.9 e Xb>133.1\n",
        "\n",
        "# Fixando alfa de 5%, temos 2.5% em cada cauda, \n",
        "# com isso obtem-se a regiao de rejeicao (critica)\n",
        "qnorm(0.025,mean=mi0,sd=EP)\n",
        "qnorm(0.975,mean=mi0,sd=EP)\n",
        "# regiao de rejeicao (regiao critica) Xb<121.9 e Xb>134.1\n",
        "\n",
        "# Fixando alfa de 1%, temos 0.5% em cada cauda, \n",
        "# com isso obtem-se a regiao de rejeicao (critica)\n",
        "qnorm(0.005,mean=mi0,sd=EP)\n",
        "qnorm(0.995,mean=mi0,sd=EP)\n",
        "# regiao de rejeicao (regiao critica) Xb<120.02 e Xb>135.98\n",
        "\n",
        "\n",
        "# erro beta - se mi0 diferente de 128, por exemplo 132\n",
        "pnorm(136,mean=132,sd=EP)-pnorm(120,mean=132,sd=EP)\n",
        "pnorm(135,mean=132,sd=EP)-pnorm(121,mean=132,sd=EP)\n",
        "pnorm(134,mean=132,sd=EP)-pnorm(122,mean=132,sd=EP)\n",
        "pnorm(133,mean=132,sd=EP)-pnorm(123,mean=132,sd=EP)\n",
        "pnorm(132,mean=132,sd=EP)-pnorm(124,mean=132,sd=EP)\n",
        "pnorm(131,mean=132,sd=EP)-pnorm(125,mean=132,sd=EP)\n",
        "pnorm(130,mean=132,sd=EP)-pnorm(126,mean=132,sd=EP)\n",
        "\n",
        "# erro beta - se mi0 diferente de 128, por exemplo 133\n",
        "pnorm(136,mean=133,sd=EP)-pnorm(120,mean=133,sd=EP)\n",
        "pnorm(135,mean=133,sd=EP)-pnorm(121,mean=133,sd=EP)\n",
        "pnorm(134,mean=133,sd=EP)-pnorm(122,mean=133,sd=EP)\n",
        "pnorm(133,mean=133,sd=EP)-pnorm(123,mean=133,sd=EP)\n",
        "pnorm(132,mean=133,sd=EP)-pnorm(124,mean=133,sd=EP)\n",
        "pnorm(131,mean=133,sd=EP)-pnorm(125,mean=133,sd=EP)\n",
        "pnorm(130,mean=133,sd=EP)-pnorm(126,mean=133,sd=EP)\n",
        "\n",
        "\n",
        "# poder para diferentes valores de media (de 108 a 148)\n",
        "# considerando alfa=1% - (regiao critica) Xb<120 e Xb>136\n",
        "mi_p = seq(108,148,1)\n",
        "poder=1-(pnorm(136,mean=mi_p,sd=EP)-pnorm(120,mean=mi_p,sd=EP))\n",
        "plot(mi_p,poder,type=\"l\")\n",
        "cbind(mi_p,poder)\n",
        "# quanto mais distante de 128, maior e o poder do teste\n",
        "# e consequentemente, menor o erro do tipo 2\n",
        "# poder de 90% é alcancado com mi<116 ou mi>140\n",
        "\n",
        "# poder para diferentes valores de media (de 108 a 148)\n",
        "# considerando alfa=10% - (regiao critica) Xb<123 e Xb>133\n",
        "mi_p = seq(108,148,1)\n",
        "poder=1-(pnorm(133,mean=mi_p,sd=EP)-pnorm(123,mean=mi_p,sd=EP))\n",
        "plot(mi_p,poder,type=\"l\")\n",
        "cbind(mi_p,poder)\n",
        "# quanto mais distante de 128, maior e o poder do teste\n",
        "# e consequentemente, menor o erro do tipo 2\n",
        "# poder de 90% é alcancado com mi<119 ou mi>137\n",
        "\n",
        "\n",
        "# Qual o menor n que garante um poder de pelo menor 80%\n",
        "# de detectar uma diferenca de 7 unidades de PAS?\n",
        "dif<-7\n",
        "delta<-dif/sigma\n",
        "alfa<-0.05\n",
        "poder<-0.80\n",
        "Zalfa2 <- qnorm(1-alfa/2)\n",
        "Zbeta <- qnorm(poder)\n",
        "n <- ((Zalfa2+Zbeta)/delta)**2\n",
        "\n",
        "\n",
        "# Resolvendo o exemplo com n=93\n",
        "mi0 <- 128\n",
        "alfa<-0.05\n",
        "n<-93\n",
        "x_barra<-120\n",
        "sigma = 24\n",
        "EP = sigma/sqrt(n)\n",
        "\n",
        "# TH\n",
        "Zcalc <- (x_barra-mi0)/EP\n",
        "Zcrit <- qnorm(1-(alfa/2))\n",
        "abs(Zcalc) > abs(Zcrit) #rejeito H0\n",
        "abs(Zcalc) < abs(Zcrit) #nao rejeito H0\n",
        "p_valor <- pnorm(abs(Zcalc),lower.tail = F)*2 #bilateral *2\n",
        "abs(p_valor) < abs(alfa) #rejeito H0\n",
        "abs(p_valor) > abs(alfa) #nao rejeito H0\n",
        "\n",
        "# IC\n",
        "li = x_barra - Zcrit * EP\n",
        "ls = x_barra + Zcrit * EP\n",
        "c(li,ls) \n",
        "li<mi0 & mi0<ls # mi0 dento do IC - nao rejeito H0\n",
        "mi0<li | ls<mi0 # mi0 fora do IC - rejeito H0 "
      ]
    },
    {
      "cell_type": "code",
      "source": [
        "# dados para fazer TH e IC\n",
        "mi0 <- 128 # media de teste\n",
        "sigma <- 24 # desvio-padrao populacional\n",
        "x_barra <- 135 # media amostral\n",
        "n <- 60"
      ],
      "metadata": {
        "id": "6y_NNl9g1GVV"
      },
      "execution_count": null,
      "outputs": []
    },
    {
      "cell_type": "code",
      "source": [
        "EP = sigma/sqrt(n)"
      ],
      "metadata": {
        "id": "Hjfv4Cc21Itm"
      },
      "execution_count": null,
      "outputs": []
    },
    {
      "cell_type": "code",
      "source": [
        "pnorm(120,mean=mi0,sd=EP)+(1-pnorm(136,mean=mi0,sd=EP))"
      ],
      "metadata": {
        "colab": {
          "base_uri": "https://localhost:8080/",
          "height": 34
        },
        "id": "_LwM-4XA1TIt",
        "outputId": "3acefa24-32c7-448e-da74-acc89f0f8bee"
      },
      "execution_count": null,
      "outputs": [
        {
          "output_type": "display_data",
          "data": {
            "text/html": [
              "0.00982327450751927"
            ],
            "text/markdown": "0.00982327450751927",
            "text/latex": "0.00982327450751927",
            "text/plain": [
              "[1] 0.009823275"
            ]
          },
          "metadata": {}
        }
      ]
    }
  ]
}